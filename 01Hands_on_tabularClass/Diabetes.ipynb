{
  "nbformat": 4,
  "nbformat_minor": 0,
  "metadata": {
    "colab": {
      "provenance": []
    },
    "kernelspec": {
      "name": "python3",
      "display_name": "Python 3"
    },
    "language_info": {
      "name": "python"
    }
  },
  "cells": [
    {
      "cell_type": "markdown",
      "source": [
        "# Import de bibliotecas"
      ],
      "metadata": {
        "id": "DhGcO-v_sQSF"
      }
    },
    {
      "cell_type": "code",
      "execution_count": null,
      "metadata": {
        "id": "uSOcPCmAd8_S"
      },
      "outputs": [],
      "source": [
        "import pandas as pd\n",
        "import numpy as np\n",
        "import matplotlib.pyplot as plt\n",
        "from scipy.integrate import simps"
      ]
    },
    {
      "cell_type": "markdown",
      "source": [
        "# Carregando e visualizando os dados"
      ],
      "metadata": {
        "id": "iAskA0MxsXPh"
      }
    },
    {
      "cell_type": "code",
      "source": [
        "Data = pd.read_csv(\"https://raw.githubusercontent.com/gsmteixeira/EAFExp2023/main/data/Pima-Diabetes.csv\",\n",
        "                   names=['No gravidez',\n",
        "                          'Glicose (mg/dL)',\n",
        "                          'Pressão Sanguínea (mmHg)',\n",
        "                          'Espessura da pele (micro m)',\n",
        "                          'Insulina',\n",
        "                          'BMI',\n",
        "                          'DPF',\n",
        "                          'Idade',\n",
        "                          'Resultado'])\n",
        "\n",
        "Data"
      ],
      "metadata": {
        "colab": {
          "base_uri": "https://localhost:8080/",
          "height": 424
        },
        "id": "UK-lUDmohd3L",
        "outputId": "b4b89f25-c3a3-467e-f93c-ba361b3765f9"
      },
      "execution_count": null,
      "outputs": [
        {
          "output_type": "execute_result",
          "data": {
            "text/plain": [
              "     No gravidez  Glicose (mg/dL)  Pressão Sanguínea (mmHg)  \\\n",
              "0              6              148                        72   \n",
              "1              1               85                        66   \n",
              "2              8              183                        64   \n",
              "3              1               89                        66   \n",
              "4              0              137                        40   \n",
              "..           ...              ...                       ...   \n",
              "753            0              181                        88   \n",
              "754            8              154                        78   \n",
              "755            1              128                        88   \n",
              "756            7              137                        90   \n",
              "757            0              123                        72   \n",
              "\n",
              "     Espessura da pele (micro m)  Insulina   BMI    DPF  Idade  Resultado  \n",
              "0                             35         0  33.6  0.627     50          1  \n",
              "1                             29         0  26.6  0.351     31          0  \n",
              "2                              0         0  23.3  0.672     32          1  \n",
              "3                             23        94  28.1  0.167     21          0  \n",
              "4                             35       168  43.1  2.288     33          1  \n",
              "..                           ...       ...   ...    ...    ...        ...  \n",
              "753                           44       510  43.3  0.222     26          1  \n",
              "754                           32         0  32.4  0.443     45          1  \n",
              "755                           39       110  36.5  1.057     37          1  \n",
              "756                           41         0  32.0  0.391     39          0  \n",
              "757                            0         0  36.3  0.258     52          1  \n",
              "\n",
              "[758 rows x 9 columns]"
            ],
            "text/html": [
              "\n",
              "  <div id=\"df-bf99958b-87c7-4c3c-b9d5-31c5da45025b\">\n",
              "    <div class=\"colab-df-container\">\n",
              "      <div>\n",
              "<style scoped>\n",
              "    .dataframe tbody tr th:only-of-type {\n",
              "        vertical-align: middle;\n",
              "    }\n",
              "\n",
              "    .dataframe tbody tr th {\n",
              "        vertical-align: top;\n",
              "    }\n",
              "\n",
              "    .dataframe thead th {\n",
              "        text-align: right;\n",
              "    }\n",
              "</style>\n",
              "<table border=\"1\" class=\"dataframe\">\n",
              "  <thead>\n",
              "    <tr style=\"text-align: right;\">\n",
              "      <th></th>\n",
              "      <th>No gravidez</th>\n",
              "      <th>Glicose (mg/dL)</th>\n",
              "      <th>Pressão Sanguínea (mmHg)</th>\n",
              "      <th>Espessura da pele (micro m)</th>\n",
              "      <th>Insulina</th>\n",
              "      <th>BMI</th>\n",
              "      <th>DPF</th>\n",
              "      <th>Idade</th>\n",
              "      <th>Resultado</th>\n",
              "    </tr>\n",
              "  </thead>\n",
              "  <tbody>\n",
              "    <tr>\n",
              "      <th>0</th>\n",
              "      <td>6</td>\n",
              "      <td>148</td>\n",
              "      <td>72</td>\n",
              "      <td>35</td>\n",
              "      <td>0</td>\n",
              "      <td>33.6</td>\n",
              "      <td>0.627</td>\n",
              "      <td>50</td>\n",
              "      <td>1</td>\n",
              "    </tr>\n",
              "    <tr>\n",
              "      <th>1</th>\n",
              "      <td>1</td>\n",
              "      <td>85</td>\n",
              "      <td>66</td>\n",
              "      <td>29</td>\n",
              "      <td>0</td>\n",
              "      <td>26.6</td>\n",
              "      <td>0.351</td>\n",
              "      <td>31</td>\n",
              "      <td>0</td>\n",
              "    </tr>\n",
              "    <tr>\n",
              "      <th>2</th>\n",
              "      <td>8</td>\n",
              "      <td>183</td>\n",
              "      <td>64</td>\n",
              "      <td>0</td>\n",
              "      <td>0</td>\n",
              "      <td>23.3</td>\n",
              "      <td>0.672</td>\n",
              "      <td>32</td>\n",
              "      <td>1</td>\n",
              "    </tr>\n",
              "    <tr>\n",
              "      <th>3</th>\n",
              "      <td>1</td>\n",
              "      <td>89</td>\n",
              "      <td>66</td>\n",
              "      <td>23</td>\n",
              "      <td>94</td>\n",
              "      <td>28.1</td>\n",
              "      <td>0.167</td>\n",
              "      <td>21</td>\n",
              "      <td>0</td>\n",
              "    </tr>\n",
              "    <tr>\n",
              "      <th>4</th>\n",
              "      <td>0</td>\n",
              "      <td>137</td>\n",
              "      <td>40</td>\n",
              "      <td>35</td>\n",
              "      <td>168</td>\n",
              "      <td>43.1</td>\n",
              "      <td>2.288</td>\n",
              "      <td>33</td>\n",
              "      <td>1</td>\n",
              "    </tr>\n",
              "    <tr>\n",
              "      <th>...</th>\n",
              "      <td>...</td>\n",
              "      <td>...</td>\n",
              "      <td>...</td>\n",
              "      <td>...</td>\n",
              "      <td>...</td>\n",
              "      <td>...</td>\n",
              "      <td>...</td>\n",
              "      <td>...</td>\n",
              "      <td>...</td>\n",
              "    </tr>\n",
              "    <tr>\n",
              "      <th>753</th>\n",
              "      <td>0</td>\n",
              "      <td>181</td>\n",
              "      <td>88</td>\n",
              "      <td>44</td>\n",
              "      <td>510</td>\n",
              "      <td>43.3</td>\n",
              "      <td>0.222</td>\n",
              "      <td>26</td>\n",
              "      <td>1</td>\n",
              "    </tr>\n",
              "    <tr>\n",
              "      <th>754</th>\n",
              "      <td>8</td>\n",
              "      <td>154</td>\n",
              "      <td>78</td>\n",
              "      <td>32</td>\n",
              "      <td>0</td>\n",
              "      <td>32.4</td>\n",
              "      <td>0.443</td>\n",
              "      <td>45</td>\n",
              "      <td>1</td>\n",
              "    </tr>\n",
              "    <tr>\n",
              "      <th>755</th>\n",
              "      <td>1</td>\n",
              "      <td>128</td>\n",
              "      <td>88</td>\n",
              "      <td>39</td>\n",
              "      <td>110</td>\n",
              "      <td>36.5</td>\n",
              "      <td>1.057</td>\n",
              "      <td>37</td>\n",
              "      <td>1</td>\n",
              "    </tr>\n",
              "    <tr>\n",
              "      <th>756</th>\n",
              "      <td>7</td>\n",
              "      <td>137</td>\n",
              "      <td>90</td>\n",
              "      <td>41</td>\n",
              "      <td>0</td>\n",
              "      <td>32.0</td>\n",
              "      <td>0.391</td>\n",
              "      <td>39</td>\n",
              "      <td>0</td>\n",
              "    </tr>\n",
              "    <tr>\n",
              "      <th>757</th>\n",
              "      <td>0</td>\n",
              "      <td>123</td>\n",
              "      <td>72</td>\n",
              "      <td>0</td>\n",
              "      <td>0</td>\n",
              "      <td>36.3</td>\n",
              "      <td>0.258</td>\n",
              "      <td>52</td>\n",
              "      <td>1</td>\n",
              "    </tr>\n",
              "  </tbody>\n",
              "</table>\n",
              "<p>758 rows × 9 columns</p>\n",
              "</div>\n",
              "      <button class=\"colab-df-convert\" onclick=\"convertToInteractive('df-bf99958b-87c7-4c3c-b9d5-31c5da45025b')\"\n",
              "              title=\"Convert this dataframe to an interactive table.\"\n",
              "              style=\"display:none;\">\n",
              "        \n",
              "  <svg xmlns=\"http://www.w3.org/2000/svg\" height=\"24px\"viewBox=\"0 0 24 24\"\n",
              "       width=\"24px\">\n",
              "    <path d=\"M0 0h24v24H0V0z\" fill=\"none\"/>\n",
              "    <path d=\"M18.56 5.44l.94 2.06.94-2.06 2.06-.94-2.06-.94-.94-2.06-.94 2.06-2.06.94zm-11 1L8.5 8.5l.94-2.06 2.06-.94-2.06-.94L8.5 2.5l-.94 2.06-2.06.94zm10 10l.94 2.06.94-2.06 2.06-.94-2.06-.94-.94-2.06-.94 2.06-2.06.94z\"/><path d=\"M17.41 7.96l-1.37-1.37c-.4-.4-.92-.59-1.43-.59-.52 0-1.04.2-1.43.59L10.3 9.45l-7.72 7.72c-.78.78-.78 2.05 0 2.83L4 21.41c.39.39.9.59 1.41.59.51 0 1.02-.2 1.41-.59l7.78-7.78 2.81-2.81c.8-.78.8-2.07 0-2.86zM5.41 20L4 18.59l7.72-7.72 1.47 1.35L5.41 20z\"/>\n",
              "  </svg>\n",
              "      </button>\n",
              "      \n",
              "  <style>\n",
              "    .colab-df-container {\n",
              "      display:flex;\n",
              "      flex-wrap:wrap;\n",
              "      gap: 12px;\n",
              "    }\n",
              "\n",
              "    .colab-df-convert {\n",
              "      background-color: #E8F0FE;\n",
              "      border: none;\n",
              "      border-radius: 50%;\n",
              "      cursor: pointer;\n",
              "      display: none;\n",
              "      fill: #1967D2;\n",
              "      height: 32px;\n",
              "      padding: 0 0 0 0;\n",
              "      width: 32px;\n",
              "    }\n",
              "\n",
              "    .colab-df-convert:hover {\n",
              "      background-color: #E2EBFA;\n",
              "      box-shadow: 0px 1px 2px rgba(60, 64, 67, 0.3), 0px 1px 3px 1px rgba(60, 64, 67, 0.15);\n",
              "      fill: #174EA6;\n",
              "    }\n",
              "\n",
              "    [theme=dark] .colab-df-convert {\n",
              "      background-color: #3B4455;\n",
              "      fill: #D2E3FC;\n",
              "    }\n",
              "\n",
              "    [theme=dark] .colab-df-convert:hover {\n",
              "      background-color: #434B5C;\n",
              "      box-shadow: 0px 1px 3px 1px rgba(0, 0, 0, 0.15);\n",
              "      filter: drop-shadow(0px 1px 2px rgba(0, 0, 0, 0.3));\n",
              "      fill: #FFFFFF;\n",
              "    }\n",
              "  </style>\n",
              "\n",
              "      <script>\n",
              "        const buttonEl =\n",
              "          document.querySelector('#df-bf99958b-87c7-4c3c-b9d5-31c5da45025b button.colab-df-convert');\n",
              "        buttonEl.style.display =\n",
              "          google.colab.kernel.accessAllowed ? 'block' : 'none';\n",
              "\n",
              "        async function convertToInteractive(key) {\n",
              "          const element = document.querySelector('#df-bf99958b-87c7-4c3c-b9d5-31c5da45025b');\n",
              "          const dataTable =\n",
              "            await google.colab.kernel.invokeFunction('convertToInteractive',\n",
              "                                                     [key], {});\n",
              "          if (!dataTable) return;\n",
              "\n",
              "          const docLinkHtml = 'Like what you see? Visit the ' +\n",
              "            '<a target=\"_blank\" href=https://colab.research.google.com/notebooks/data_table.ipynb>data table notebook</a>'\n",
              "            + ' to learn more about interactive tables.';\n",
              "          element.innerHTML = '';\n",
              "          dataTable['output_type'] = 'display_data';\n",
              "          await google.colab.output.renderOutput(dataTable, element);\n",
              "          const docLink = document.createElement('div');\n",
              "          docLink.innerHTML = docLinkHtml;\n",
              "          element.appendChild(docLink);\n",
              "        }\n",
              "      </script>\n",
              "    </div>\n",
              "  </div>\n",
              "  "
            ]
          },
          "metadata": {},
          "execution_count": 18
        }
      ]
    },
    {
      "cell_type": "markdown",
      "source": [
        "# Separando treino teste e validação"
      ],
      "metadata": {
        "id": "_UXbvNoltP93"
      }
    },
    {
      "cell_type": "code",
      "source": [
        "# inicializa um array de indices, correspondente ao indices dos dados aleatorizados \n",
        "all_index = range(len(Data))\n",
        "random_index = np.random.choice(all_index, len(all_index), replace=False)\n",
        "\n",
        "# escolhendo ~80% dos dados para treino e ~20% pra teste\n",
        "train_len = int(0.8*len(Data))\n",
        "\n",
        "train_index = random_index[:train_len]\n",
        "test_index = random_index[train_len:]\n",
        "\n",
        "\n",
        "# dos 80% dos dados de treino, 1/8 (10% do total) será usado para validação durante o treinamento\n",
        "val_size = int(1/8*len(train_index))\n",
        "\n",
        "val_index = train_index[:val_size]\n",
        "train_index = train_index[val_size:]\n",
        "\n",
        "# atribuindo os indices correspondentes a cada conjunto\n",
        "data_train = Data.iloc[train_index]\n",
        "data_test = Data.iloc[test_index]\n",
        "data_val = Data.iloc[val_index]\n",
        "\n",
        "print(f\"Data size => {len(Data)}\")\n",
        "print(f\"Train size => {len(data_train)}\")\n",
        "print(f\"Test size => {len(data_test)}\")\n",
        "print(f\"Val size => {len(data_val)}\")\n"
      ],
      "metadata": {
        "colab": {
          "base_uri": "https://localhost:8080/"
        },
        "id": "D1FEFrou8HX2",
        "outputId": "dc964033-52c3-4a33-d622-618bc65941f3"
      },
      "execution_count": null,
      "outputs": [
        {
          "output_type": "stream",
          "name": "stdout",
          "text": [
            "Data size => 758\n",
            "Train size => 531\n",
            "Test size => 152\n",
            "Val size => 75\n"
          ]
        }
      ]
    },
    {
      "cell_type": "code",
      "source": [
        "# separando dados observados e o gabarito (sendo o gabarito a ultma tabela, \"Resultados\")\n",
        "\n",
        "x_train = np.array(data_train)[:, :-1]\n",
        "x_test = np.array(data_test)[:, :-1]\n",
        "x_val = np.array(data_val)[:, :-1]\n",
        "\n",
        "y_train = np.array(data_train)[:, -1]\n",
        "y_test = np.array(data_test)[:, -1]\n",
        "y_val = np.array(data_val)[:, -1]\n"
      ],
      "metadata": {
        "id": "73AlfScMAw1e"
      },
      "execution_count": null,
      "outputs": []
    },
    {
      "cell_type": "markdown",
      "source": [
        "# Normalização"
      ],
      "metadata": {
        "id": "YFoznNlmvdhI"
      }
    },
    {
      "cell_type": "code",
      "source": [
        "#normalização dividindo cada coluna pelo valor máximo daquela feature no conjunto de treino\n",
        "\n",
        "norm = np.max(x_train, axis=0)\n",
        "# (x_train/norm).shape\n",
        "\n",
        "norm_x_train = x_train/norm\n",
        "norm_x_test = x_test/norm\n",
        "norm_x_val = x_val/norm "
      ],
      "metadata": {
        "id": "eFjdyMvVJI05"
      },
      "execution_count": null,
      "outputs": []
    },
    {
      "cell_type": "markdown",
      "source": [
        "# Inicializando modelo"
      ],
      "metadata": {
        "id": "SwhR7yR5vg4T"
      }
    },
    {
      "cell_type": "code",
      "source": [
        "import tensorflow.keras as tfk\n",
        "\n",
        "network = tfk.models.Sequential()\n",
        "\n",
        "network.add(tfk.layers.Dense(128, activation = 'linear', input_shape = x_train.shape[1:]))\n",
        "network.add(tfk.layers.Dropout(0.7))\n",
        "\n",
        "network.add(tfk.layers.Dense(64, activation = 'linear'))\n",
        "network.add(tfk.layers.Dropout(0.6))\n",
        "\n",
        "network.add(tfk.layers.Dense(32, activation = 'tanh'))\n",
        "network.add(tfk.layers.Dropout(0.6))\n",
        "\n",
        "network.add(tfk.layers.Dense(1, activation = 'sigmoid'))\n",
        "network.compile(optimizer = 'Nadam',\n",
        "                loss = 'binary_crossentropy',\n",
        "                metrics = ['accuracy'])\n",
        "\n",
        "# model = tfk.models.Model(network)"
      ],
      "metadata": {
        "id": "ll-oWhyH_Yt0"
      },
      "execution_count": null,
      "outputs": []
    },
    {
      "cell_type": "markdown",
      "source": [
        "# Treinamento "
      ],
      "metadata": {
        "id": "79ZtwE6fvr4T"
      }
    },
    {
      "cell_type": "code",
      "source": [
        "EPOCHS = 60\n",
        "BATCH_SIZE = 32\n",
        "\n",
        "history = network.fit(x=norm_x_train, y=y_train,\n",
        "                        validation_data=(norm_x_val, y_val),\n",
        "                        epochs=EPOCHS,\n",
        "                        batch_size=BATCH_SIZE)"
      ],
      "metadata": {
        "colab": {
          "base_uri": "https://localhost:8080/"
        },
        "id": "DZ8P7BadBtWr",
        "outputId": "4c146c3f-07fe-4f99-847d-fda3ebddfac3"
      },
      "execution_count": null,
      "outputs": [
        {
          "output_type": "stream",
          "name": "stdout",
          "text": [
            "Epoch 1/60\n",
            "17/17 [==============================] - 2s 17ms/step - loss: 0.7777 - accuracy: 0.5461 - val_loss: 0.6805 - val_accuracy: 0.6133\n",
            "Epoch 2/60\n",
            "17/17 [==============================] - 0s 6ms/step - loss: 0.7595 - accuracy: 0.5386 - val_loss: 0.6840 - val_accuracy: 0.6133\n",
            "Epoch 3/60\n",
            "17/17 [==============================] - 0s 6ms/step - loss: 0.7402 - accuracy: 0.5895 - val_loss: 0.6762 - val_accuracy: 0.6133\n",
            "Epoch 4/60\n",
            "17/17 [==============================] - 0s 7ms/step - loss: 0.7146 - accuracy: 0.5838 - val_loss: 0.6719 - val_accuracy: 0.6133\n",
            "Epoch 5/60\n",
            "17/17 [==============================] - 0s 5ms/step - loss: 0.7345 - accuracy: 0.5913 - val_loss: 0.6614 - val_accuracy: 0.6133\n",
            "Epoch 6/60\n",
            "17/17 [==============================] - 0s 5ms/step - loss: 0.6895 - accuracy: 0.6083 - val_loss: 0.6609 - val_accuracy: 0.6133\n",
            "Epoch 7/60\n",
            "17/17 [==============================] - 0s 6ms/step - loss: 0.6831 - accuracy: 0.6384 - val_loss: 0.6496 - val_accuracy: 0.6133\n",
            "Epoch 8/60\n",
            "17/17 [==============================] - 0s 5ms/step - loss: 0.6783 - accuracy: 0.6271 - val_loss: 0.6464 - val_accuracy: 0.6133\n",
            "Epoch 9/60\n",
            "17/17 [==============================] - 0s 6ms/step - loss: 0.6912 - accuracy: 0.6252 - val_loss: 0.6488 - val_accuracy: 0.6133\n",
            "Epoch 10/60\n",
            "17/17 [==============================] - 0s 5ms/step - loss: 0.6793 - accuracy: 0.6139 - val_loss: 0.6414 - val_accuracy: 0.6133\n",
            "Epoch 11/60\n",
            "17/17 [==============================] - 0s 6ms/step - loss: 0.6764 - accuracy: 0.6196 - val_loss: 0.6384 - val_accuracy: 0.6133\n",
            "Epoch 12/60\n",
            "17/17 [==============================] - 0s 6ms/step - loss: 0.6813 - accuracy: 0.6252 - val_loss: 0.6306 - val_accuracy: 0.6267\n",
            "Epoch 13/60\n",
            "17/17 [==============================] - 0s 5ms/step - loss: 0.6520 - accuracy: 0.6629 - val_loss: 0.6257 - val_accuracy: 0.6267\n",
            "Epoch 14/60\n",
            "17/17 [==============================] - 0s 6ms/step - loss: 0.6675 - accuracy: 0.6158 - val_loss: 0.6240 - val_accuracy: 0.6267\n",
            "Epoch 15/60\n",
            "17/17 [==============================] - 0s 6ms/step - loss: 0.6271 - accuracy: 0.6723 - val_loss: 0.6226 - val_accuracy: 0.6267\n",
            "Epoch 16/60\n",
            "17/17 [==============================] - 0s 6ms/step - loss: 0.6334 - accuracy: 0.6535 - val_loss: 0.6190 - val_accuracy: 0.6267\n",
            "Epoch 17/60\n",
            "17/17 [==============================] - 0s 7ms/step - loss: 0.6323 - accuracy: 0.6629 - val_loss: 0.6141 - val_accuracy: 0.6400\n",
            "Epoch 18/60\n",
            "17/17 [==============================] - 0s 6ms/step - loss: 0.6331 - accuracy: 0.6497 - val_loss: 0.6090 - val_accuracy: 0.6533\n",
            "Epoch 19/60\n",
            "17/17 [==============================] - 0s 6ms/step - loss: 0.6539 - accuracy: 0.6177 - val_loss: 0.6112 - val_accuracy: 0.6400\n",
            "Epoch 20/60\n",
            "17/17 [==============================] - 0s 6ms/step - loss: 0.6207 - accuracy: 0.6874 - val_loss: 0.6038 - val_accuracy: 0.6800\n",
            "Epoch 21/60\n",
            "17/17 [==============================] - 0s 5ms/step - loss: 0.6074 - accuracy: 0.6798 - val_loss: 0.5951 - val_accuracy: 0.7333\n",
            "Epoch 22/60\n",
            "17/17 [==============================] - 0s 5ms/step - loss: 0.5937 - accuracy: 0.6930 - val_loss: 0.5935 - val_accuracy: 0.7333\n",
            "Epoch 23/60\n",
            "17/17 [==============================] - 0s 4ms/step - loss: 0.6052 - accuracy: 0.6685 - val_loss: 0.5876 - val_accuracy: 0.7200\n",
            "Epoch 24/60\n",
            "17/17 [==============================] - 0s 6ms/step - loss: 0.6098 - accuracy: 0.6836 - val_loss: 0.5947 - val_accuracy: 0.7333\n",
            "Epoch 25/60\n",
            "17/17 [==============================] - 0s 5ms/step - loss: 0.6044 - accuracy: 0.6930 - val_loss: 0.5880 - val_accuracy: 0.7333\n",
            "Epoch 26/60\n",
            "17/17 [==============================] - 0s 7ms/step - loss: 0.6032 - accuracy: 0.6780 - val_loss: 0.5814 - val_accuracy: 0.7333\n",
            "Epoch 27/60\n",
            "17/17 [==============================] - 0s 6ms/step - loss: 0.5995 - accuracy: 0.6893 - val_loss: 0.5806 - val_accuracy: 0.7467\n",
            "Epoch 28/60\n",
            "17/17 [==============================] - 0s 5ms/step - loss: 0.5724 - accuracy: 0.7043 - val_loss: 0.5800 - val_accuracy: 0.7333\n",
            "Epoch 29/60\n",
            "17/17 [==============================] - 0s 7ms/step - loss: 0.6000 - accuracy: 0.6855 - val_loss: 0.5818 - val_accuracy: 0.7333\n",
            "Epoch 30/60\n",
            "17/17 [==============================] - 0s 6ms/step - loss: 0.5981 - accuracy: 0.6817 - val_loss: 0.5745 - val_accuracy: 0.7467\n",
            "Epoch 31/60\n",
            "17/17 [==============================] - 0s 6ms/step - loss: 0.5966 - accuracy: 0.7194 - val_loss: 0.5817 - val_accuracy: 0.7200\n",
            "Epoch 32/60\n",
            "17/17 [==============================] - 0s 6ms/step - loss: 0.5975 - accuracy: 0.6855 - val_loss: 0.5698 - val_accuracy: 0.7467\n",
            "Epoch 33/60\n",
            "17/17 [==============================] - 0s 5ms/step - loss: 0.5721 - accuracy: 0.6968 - val_loss: 0.5776 - val_accuracy: 0.7333\n",
            "Epoch 34/60\n",
            "17/17 [==============================] - 0s 5ms/step - loss: 0.5844 - accuracy: 0.6836 - val_loss: 0.5604 - val_accuracy: 0.7333\n",
            "Epoch 35/60\n",
            "17/17 [==============================] - 0s 6ms/step - loss: 0.5706 - accuracy: 0.7156 - val_loss: 0.5664 - val_accuracy: 0.7467\n",
            "Epoch 36/60\n",
            "17/17 [==============================] - 0s 7ms/step - loss: 0.5780 - accuracy: 0.7024 - val_loss: 0.5514 - val_accuracy: 0.7467\n",
            "Epoch 37/60\n",
            "17/17 [==============================] - 0s 6ms/step - loss: 0.5740 - accuracy: 0.7006 - val_loss: 0.5709 - val_accuracy: 0.7200\n",
            "Epoch 38/60\n",
            "17/17 [==============================] - 0s 8ms/step - loss: 0.5798 - accuracy: 0.7043 - val_loss: 0.5632 - val_accuracy: 0.7333\n",
            "Epoch 39/60\n",
            "17/17 [==============================] - 0s 6ms/step - loss: 0.5728 - accuracy: 0.6949 - val_loss: 0.5495 - val_accuracy: 0.7467\n",
            "Epoch 40/60\n",
            "17/17 [==============================] - 0s 6ms/step - loss: 0.5503 - accuracy: 0.7250 - val_loss: 0.5619 - val_accuracy: 0.7600\n",
            "Epoch 41/60\n",
            "17/17 [==============================] - 0s 6ms/step - loss: 0.5678 - accuracy: 0.7175 - val_loss: 0.5468 - val_accuracy: 0.7467\n",
            "Epoch 42/60\n",
            "17/17 [==============================] - 0s 6ms/step - loss: 0.5542 - accuracy: 0.7100 - val_loss: 0.5531 - val_accuracy: 0.7333\n",
            "Epoch 43/60\n",
            "17/17 [==============================] - 0s 6ms/step - loss: 0.5652 - accuracy: 0.7081 - val_loss: 0.5505 - val_accuracy: 0.7467\n",
            "Epoch 44/60\n",
            "17/17 [==============================] - 0s 6ms/step - loss: 0.5769 - accuracy: 0.7156 - val_loss: 0.5478 - val_accuracy: 0.7333\n",
            "Epoch 45/60\n",
            "17/17 [==============================] - 0s 7ms/step - loss: 0.5569 - accuracy: 0.7401 - val_loss: 0.5565 - val_accuracy: 0.7467\n",
            "Epoch 46/60\n",
            "17/17 [==============================] - 0s 6ms/step - loss: 0.5616 - accuracy: 0.7119 - val_loss: 0.5557 - val_accuracy: 0.7467\n",
            "Epoch 47/60\n",
            "17/17 [==============================] - 0s 6ms/step - loss: 0.5513 - accuracy: 0.7043 - val_loss: 0.5513 - val_accuracy: 0.7467\n",
            "Epoch 48/60\n",
            "17/17 [==============================] - 0s 8ms/step - loss: 0.5587 - accuracy: 0.7119 - val_loss: 0.5545 - val_accuracy: 0.7467\n",
            "Epoch 49/60\n",
            "17/17 [==============================] - 0s 5ms/step - loss: 0.5392 - accuracy: 0.7288 - val_loss: 0.5371 - val_accuracy: 0.7200\n",
            "Epoch 50/60\n",
            "17/17 [==============================] - 0s 5ms/step - loss: 0.5384 - accuracy: 0.7439 - val_loss: 0.5381 - val_accuracy: 0.7333\n",
            "Epoch 51/60\n",
            "17/17 [==============================] - 0s 7ms/step - loss: 0.5422 - accuracy: 0.7194 - val_loss: 0.5595 - val_accuracy: 0.7467\n",
            "Epoch 52/60\n",
            "17/17 [==============================] - 0s 6ms/step - loss: 0.5360 - accuracy: 0.7269 - val_loss: 0.5416 - val_accuracy: 0.7333\n",
            "Epoch 53/60\n",
            "17/17 [==============================] - 0s 5ms/step - loss: 0.5322 - accuracy: 0.7326 - val_loss: 0.5514 - val_accuracy: 0.7467\n",
            "Epoch 54/60\n",
            "17/17 [==============================] - 0s 6ms/step - loss: 0.5462 - accuracy: 0.7307 - val_loss: 0.5414 - val_accuracy: 0.7200\n",
            "Epoch 55/60\n",
            "17/17 [==============================] - 0s 6ms/step - loss: 0.5599 - accuracy: 0.7288 - val_loss: 0.5324 - val_accuracy: 0.7200\n",
            "Epoch 56/60\n",
            "17/17 [==============================] - 0s 6ms/step - loss: 0.5443 - accuracy: 0.7119 - val_loss: 0.5478 - val_accuracy: 0.7467\n",
            "Epoch 57/60\n",
            "17/17 [==============================] - 0s 6ms/step - loss: 0.5282 - accuracy: 0.7495 - val_loss: 0.5418 - val_accuracy: 0.7333\n",
            "Epoch 58/60\n",
            "17/17 [==============================] - 0s 6ms/step - loss: 0.5341 - accuracy: 0.7081 - val_loss: 0.5576 - val_accuracy: 0.7467\n",
            "Epoch 59/60\n",
            "17/17 [==============================] - 0s 6ms/step - loss: 0.5319 - accuracy: 0.7439 - val_loss: 0.5423 - val_accuracy: 0.7333\n",
            "Epoch 60/60\n",
            "17/17 [==============================] - 0s 5ms/step - loss: 0.5564 - accuracy: 0.7213 - val_loss: 0.5460 - val_accuracy: 0.7467\n"
          ]
        }
      ]
    },
    {
      "cell_type": "markdown",
      "source": [
        "# Resultados"
      ],
      "metadata": {
        "id": "gwpeOB_yvxD_"
      }
    },
    {
      "cell_type": "code",
      "source": [
        "# curva de treino\n",
        "plt.figure(figsize=(10,8))\n",
        "plt.plot(history.history['loss'], label='train')\n",
        "plt.plot(history.history['val_loss'], label='validation')\n",
        "\n",
        "plt.xlabel('epochs', fontsize=14)\n",
        "plt.ylabel('loss (binary_crossentropy)', fontsize=14)\n",
        "plt.legend()"
      ],
      "metadata": {
        "colab": {
          "base_uri": "https://localhost:8080/",
          "height": 518
        },
        "id": "zfd7wxOXCjuK",
        "outputId": "1b4d6e90-e565-44f1-84b1-eb9a9c1537d1"
      },
      "execution_count": null,
      "outputs": [
        {
          "output_type": "execute_result",
          "data": {
            "text/plain": [
              "<matplotlib.legend.Legend at 0x7f6969849130>"
            ]
          },
          "metadata": {},
          "execution_count": 162
        },
        {
          "output_type": "display_data",
          "data": {
            "text/plain": [
              "<Figure size 720x576 with 1 Axes>"
            ],
            "image/png": "[encoded data removed]"
          },
          "metadata": {
            "needs_background": "light"
          }
        }
      ]
    },
    {
      "cell_type": "code",
      "source": [
        "plt.figure(figsize=(10,8))\n",
        "plt.plot(history.history['accuracy'], label='train')\n",
        "plt.plot(history.history['val_accuracy'], label='validation')\n",
        "\n",
        "plt.xlabel('epochs', fontsize=14)\n",
        "plt.ylabel('accuracy', fontsize=14)\n",
        "plt.legend()"
      ],
      "metadata": {
        "colab": {
          "base_uri": "https://localhost:8080/",
          "height": 518
        },
        "id": "pqw8gBptFwTC",
        "outputId": "b8fb3344-a4d6-4099-ed40-ee399009769e"
      },
      "execution_count": null,
      "outputs": [
        {
          "output_type": "execute_result",
          "data": {
            "text/plain": [
              "<matplotlib.legend.Legend at 0x7f696759f760>"
            ]
          },
          "metadata": {},
          "execution_count": 164
        },
        {
          "output_type": "display_data",
          "data": {
            "text/plain": [
              "<Figure size 720x576 with 1 Axes>"
            ],
            "image/png": "[encoded data removed]"
          },
          "metadata": {
            "needs_background": "light"
          }
        }
      ]
    },
    {
      "cell_type": "markdown",
      "source": [
        "# Teste "
      ],
      "metadata": {
        "id": "xB01unPHv2UZ"
      }
    },
    {
      "cell_type": "code",
      "source": [
        "from sklearn.metrics import confusion_matrix\n",
        "import seaborn as sns\n",
        "\n",
        "\n",
        "y_pred = (network.predict(norm_x_test) > .5).astype('int')\n",
        "\n",
        "cf_matrix = confusion_matrix(y_test, y_pred)\n",
        "\n",
        "sns.set(rc={'figure.figsize':(11.7,8.27)})\n",
        "\n",
        "group_names = ['True Neg','False Pos','False Neg','True Pos']\n",
        "group_counts = [\"{0:0.0f}\".format(value) for value in\n",
        "                cf_matrix.flatten()]\n",
        "group_percentages = [\"{0:.2%}\".format(value) for value in\n",
        "                     cf_matrix.flatten()/np.sum(cf_matrix)]\n",
        "labels = [f\"{v1}\\n{v2}\\n{v3}\" for v1, v2, v3 in\n",
        "          zip(group_names,group_counts,group_percentages)]\n",
        "labels = np.asarray(labels).reshape(2,2)\n",
        "sns.heatmap(cf_matrix, annot=labels, fmt='', cmap='Blues')"
      ],
      "metadata": {
        "colab": {
          "base_uri": "https://localhost:8080/",
          "height": 535
        },
        "id": "6sc64AClM-wY",
        "outputId": "8b95030e-2212-46d7-e0f6-46a538f836c7"
      },
      "execution_count": null,
      "outputs": [
        {
          "output_type": "stream",
          "name": "stdout",
          "text": [
            "5/5 [==============================] - 0s 4ms/step\n"
          ]
        },
        {
          "output_type": "execute_result",
          "data": {
            "text/plain": [
              "<matplotlib.axes._subplots.AxesSubplot at 0x7f69615afd90>"
            ]
          },
          "metadata": {},
          "execution_count": 174
        },
        {
          "output_type": "display_data",
          "data": {
            "text/plain": [
              "<Figure size 842.4x595.44 with 2 Axes>"
            ],
            "image/png": "[encoded data removed]"
          },
          "metadata": {}
        }
      ]
    },
    {
      "cell_type": "markdown",
      "source": [
        "# Teste uma nova forma de normalização dos dados e compare os resultados\n",
        "\n",
        "Sugestão: Standard Deviation Normalization\n",
        "\n",
        "$$\n",
        "x_{norm} = \\frac{x - \\bar{x}}{\\sigma}\n",
        "$$"
      ],
      "metadata": {
        "id": "KICRvst3HXe4"
      }
    },
    {
      "cell_type": "code",
      "source": [],
      "metadata": {
        "id": "bAvVdK_AHuF0"
      },
      "execution_count": null,
      "outputs": []
    }
  ]
}